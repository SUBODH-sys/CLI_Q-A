{
  "nbformat": 4,
  "nbformat_minor": 0,
  "metadata": {
    "colab": {
      "provenance": [],
      "gpuType": "T4"
    },
    "kernelspec": {
      "name": "python3",
      "display_name": "Python 3"
    },
    "language_info": {
      "name": "python"
    },
    "accelerator": "GPU"
  },
  "cells": [
    {
      "cell_type": "code",
      "execution_count": null,
      "metadata": {
        "colab": {
          "base_uri": "https://localhost:8080/"
        },
        "id": "2HZ_OlaWvXkh",
        "outputId": "deb8699e-6264-4cea-fd40-7eedc1aa07a3"
      },
      "outputs": [
        {
          "output_type": "stream",
          "name": "stdout",
          "text": [
            "   179 /content/train.jsonl\n",
            "    19 /content/val.jsonl\n",
            "   198 total\n"
          ]
        }
      ],
      "source": [
        "!wc -l /content/train.jsonl /content/val.jsonl"
      ]
    },
    {
      "cell_type": "code",
      "source": [
        "import torch\n",
        "from transformers import AutoModelForCausalLM, AutoTokenizer, TrainingArguments, Trainer\n",
        "from datasets import Dataset, DatasetDict\n",
        "import json\n",
        "import os"
      ],
      "metadata": {
        "id": "Fv57ZazIv1Cb"
      },
      "execution_count": null,
      "outputs": []
    },
    {
      "cell_type": "code",
      "source": [
        "MODEL_NAME = \"TinyLlama/TinyLlama-1.1B-Chat-v1.0\"\n",
        "TRAIN_DATA = \"/content/train.jsonl\"\n",
        "VAL_DATA = \"/content/val.jsonl\""
      ],
      "metadata": {
        "id": "7QOK9zVgwcvS"
      },
      "execution_count": null,
      "outputs": []
    },
    {
      "cell_type": "code",
      "source": [
        "if not (os.path.exists(TRAIN_DATA) and os.path.exists(VAL_DATA)):\n",
        "    raise FileNotFoundError(f\"Dataset files not found: {TRAIN_DATA}, {VAL_DATA}\")"
      ],
      "metadata": {
        "id": "bgxu3kJuwo2o"
      },
      "execution_count": null,
      "outputs": []
    },
    {
      "cell_type": "code",
      "source": [
        "def load_jsonl(file_path):\n",
        "    data = []\n",
        "    with open(file_path, \"r\", encoding=\"utf-8\") as f:\n",
        "        for i, line in enumerate(f, 1):\n",
        "            try:\n",
        "                data.append(json.loads(line.strip()))\n",
        "            except json.JSONDecodeError as e:\n",
        "                print(f\"Error in {file_path}, line {i}: {e}\")\n",
        "                raise\n",
        "    return data"
      ],
      "metadata": {
        "id": "MzQuCRz6wrwm"
      },
      "execution_count": null,
      "outputs": []
    },
    {
      "cell_type": "code",
      "source": [
        "train_data = load_jsonl(TRAIN_DATA)\n",
        "val_data = load_jsonl(VAL_DATA)\n",
        "print(f\"Loaded {len(train_data)} train samples, {len(val_data)} validation samples\")"
      ],
      "metadata": {
        "colab": {
          "base_uri": "https://localhost:8080/"
        },
        "id": "TojI7youwu4D",
        "outputId": "f4e6cea3-0753-4676-aa04-16cc7e6b4f9b"
      },
      "execution_count": null,
      "outputs": [
        {
          "output_type": "stream",
          "name": "stdout",
          "text": [
            "Loaded 179 train samples, 19 validation samples\n"
          ]
        }
      ]
    },
    {
      "cell_type": "code",
      "source": [
        "dataset = DatasetDict({\n",
        "    \"train\": Dataset.from_list(train_data),\n",
        "    \"validation\": Dataset.from_list(val_data)\n",
        "})"
      ],
      "metadata": {
        "id": "ryJ1V1v8wyIE"
      },
      "execution_count": null,
      "outputs": []
    },
    {
      "cell_type": "code",
      "source": [
        "tokenizer = AutoTokenizer.from_pretrained(MODEL_NAME)\n",
        "tokenizer.pad_token = tokenizer.eos_token"
      ],
      "metadata": {
        "colab": {
          "base_uri": "https://localhost:8080/",
          "height": 269,
          "referenced_widgets": [
            "64e6e85fe3c9468f91cc136d1c7c7e7f",
            "46dc6bc9927b48b5a121e86813ef5a8f",
            "3267167238854373b50ea8a028264c87",
            "a052281ee4c24159b8a5bdaebfb62425",
            "fcaf83a380f941b5bcc4b8f14697ee5a",
            "345161fa794d49ef8dd17ed57c0f3f73",
            "5ab037315aa84eac89112aae3df3fb65",
            "09a861192bac492ea110739e245de231",
            "3a3e91c5d0d14bdd96a6fed4da476e21",
            "893e4f96c0cb441c95f0b57e9e4efae4",
            "bf83acc43a1648cf81ad7ffccc35a0cb",
            "e60ec5c252864758912b13b980af91a5",
            "f907219dec0d494ea2c1fc0796beb0b9",
            "f2138dbaf73a4f17adee28150b383713",
            "57e58103f14f4869be02d4279a245de9",
            "3214c62d72fa42d48e4a9ebf621800e7",
            "ea82ebc154ed4ad1b235e249846c3b64",
            "f7d231536fee47979c944030e7ccb4de",
            "6e81fc07d21849cdaa54022463e42027",
            "d0c985d62ae2492f8c2a52405e896e53",
            "5b95e58d14f8474d9aa6e8fd87f3830c",
            "aea411deabf74d3cbb4f0a2bdadeb375",
            "f45a20dabc224a18af4d9bb1232b7911",
            "6c2db580b1404a8dbf89e56d1f93ee5d",
            "3f07f45c48fb4e4b8be27ef888f12a78",
            "ac423045068444e5b68395655b1fd00c",
            "8bae6044c29c48d4aa83bad8cdca03f9",
            "2278452913ed4c3d817bb5b6e051ee0c",
            "f0fa4be89da043849c7ca9ad8185a5e0",
            "3fcd5a4b1f14492e934dac44d3135282",
            "62ef64a9446746bfa2a90a1f7d2d7623",
            "1147d7cf043147fd9aee51d8b2acd171",
            "1649a47cbd304dd79598e0e600a445cc",
            "7ad595e987e34df5a7a2cbbb297e6e29",
            "98e955adf93b4414957882a5993f1aed",
            "f60cd6ca2c144eb4b849eff1912e3430",
            "838734f9a4a54daa8df299c95685c0eb",
            "fccb25cf1f3248858cf11e6c2c7c413a",
            "7adf7d6abda84c0281df51e578498d1a",
            "909e315f2dc1484e8d995d4451809b64",
            "0cae66687182450fa5609fc2e18bf049",
            "0b1a8b8f8704459f8aee020f7ea23146",
            "e03b42b32c5d44c1b9b6146500b35890",
            "a12854ede6a1480e920dc2a604ba080a"
          ]
        },
        "id": "KZmP1tYyw1TC",
        "outputId": "858360e1-d7f0-4f05-88ee-d80eebd9da86"
      },
      "execution_count": null,
      "outputs": [
        {
          "output_type": "stream",
          "name": "stderr",
          "text": [
            "/usr/local/lib/python3.11/dist-packages/huggingface_hub/utils/_auth.py:94: UserWarning: \n",
            "The secret `HF_TOKEN` does not exist in your Colab secrets.\n",
            "To authenticate with the Hugging Face Hub, create a token in your settings tab (https://huggingface.co/settings/tokens), set it as secret in your Google Colab and restart your session.\n",
            "You will be able to reuse this secret in all of your notebooks.\n",
            "Please note that authentication is recommended but still optional to access public models or datasets.\n",
            "  warnings.warn(\n"
          ]
        },
        {
          "output_type": "display_data",
          "data": {
            "text/plain": [
              "tokenizer_config.json:   0%|          | 0.00/1.29k [00:00<?, ?B/s]"
            ],
            "application/vnd.jupyter.widget-view+json": {
              "version_major": 2,
              "version_minor": 0,
              "model_id": "64e6e85fe3c9468f91cc136d1c7c7e7f"
            }
          },
          "metadata": {}
        },
        {
          "output_type": "display_data",
          "data": {
            "text/plain": [
              "tokenizer.model:   0%|          | 0.00/500k [00:00<?, ?B/s]"
            ],
            "application/vnd.jupyter.widget-view+json": {
              "version_major": 2,
              "version_minor": 0,
              "model_id": "e60ec5c252864758912b13b980af91a5"
            }
          },
          "metadata": {}
        },
        {
          "output_type": "display_data",
          "data": {
            "text/plain": [
              "tokenizer.json:   0%|          | 0.00/1.84M [00:00<?, ?B/s]"
            ],
            "application/vnd.jupyter.widget-view+json": {
              "version_major": 2,
              "version_minor": 0,
              "model_id": "f45a20dabc224a18af4d9bb1232b7911"
            }
          },
          "metadata": {}
        },
        {
          "output_type": "display_data",
          "data": {
            "text/plain": [
              "special_tokens_map.json:   0%|          | 0.00/551 [00:00<?, ?B/s]"
            ],
            "application/vnd.jupyter.widget-view+json": {
              "version_major": 2,
              "version_minor": 0,
              "model_id": "7ad595e987e34df5a7a2cbbb297e6e29"
            }
          },
          "metadata": {}
        }
      ]
    },
    {
      "cell_type": "code",
      "source": [
        "def tokenize_function(examples):\n",
        "    tokenized = tokenizer(examples[\"text\"], padding=\"max_length\", truncation=True, max_length=256)\n",
        "    tokenized[\"labels\"] = tokenized[\"input_ids\"].copy()  # Copy input_ids as labels\n",
        "    return tokenized\n",
        "\n",
        "tokenized_dataset = dataset.map(tokenize_function, batched=True, remove_columns=[\"text\"])\n",
        "print(tokenized_dataset[\"train\"][0].keys())  # Should include 'input_ids', 'attention_mask', 'labels'"
      ],
      "metadata": {
        "colab": {
          "base_uri": "https://localhost:8080/",
          "height": 98,
          "referenced_widgets": [
            "bee723b0b3d54b7581093e6dee255e21",
            "10da8f70a8024c62be8c0ea12d90e025",
            "eac960a8925b41878d66d5a841c69d09",
            "f8bd5fad1e774f45b737bbe2ab2baa54",
            "3eee75e8a00b446da6ce8405caed1f14",
            "758555247ee7484288b059ccea49db2b",
            "8e00c4d8d3894cc6b6dc83f2ceb63e26",
            "9a3b1dc56ad14d10ae9143d66e0420e9",
            "8aaf78051fd648d583590fbaef0a275c",
            "173c0c19bac1407ea7fff5f74ba08a66",
            "d211bb7391384457a8f1abcd4b776bad",
            "3a2e40fff24a40ce9ba576112dc0c329",
            "bc5bb4b4dd3f4c15832396305bea4ef9",
            "f8769a61c48a4e33b49a2d610655df12",
            "db18fba9f595494d9fb117359fe22bf6",
            "b5f88c4e01db4a80b601b73cccd554d1",
            "83413e6574d045aaa630a11f36bf06a6",
            "df76b686bb2e4826ba4a4710e4131944",
            "02f3864d23be43e893ec057ceb945124",
            "1dec9c0f83b349d69b59d5dc0e93c679",
            "18dfdd581035446db75ad77dc047fdee",
            "723a517eb67d417192ef15bcd7d2f3f2"
          ]
        },
        "id": "_1sdwu6jw5lg",
        "outputId": "11cc4ccf-012f-4a57-d42b-73fdfbc6b380"
      },
      "execution_count": null,
      "outputs": [
        {
          "output_type": "display_data",
          "data": {
            "text/plain": [
              "Map:   0%|          | 0/179 [00:00<?, ? examples/s]"
            ],
            "application/vnd.jupyter.widget-view+json": {
              "version_major": 2,
              "version_minor": 0,
              "model_id": "bee723b0b3d54b7581093e6dee255e21"
            }
          },
          "metadata": {}
        },
        {
          "output_type": "display_data",
          "data": {
            "text/plain": [
              "Map:   0%|          | 0/19 [00:00<?, ? examples/s]"
            ],
            "application/vnd.jupyter.widget-view+json": {
              "version_major": 2,
              "version_minor": 0,
              "model_id": "3a2e40fff24a40ce9ba576112dc0c329"
            }
          },
          "metadata": {}
        },
        {
          "output_type": "stream",
          "name": "stdout",
          "text": [
            "dict_keys(['input_ids', 'attention_mask', 'labels'])\n"
          ]
        }
      ]
    },
    {
      "cell_type": "code",
      "source": [
        "model = AutoModelForCausalLM.from_pretrained(\n",
        "    MODEL_NAME,\n",
        "    torch_dtype=torch.float16,\n",
        "    device_map=\"auto\"\n",
        ")"
      ],
      "metadata": {
        "id": "wlVX1DJ9w82U",
        "colab": {
          "base_uri": "https://localhost:8080/",
          "height": 113,
          "referenced_widgets": [
            "d855fb169bfa4873994da90e35c19235",
            "a7fc4256306a417d83c7365edd1009df",
            "6c19d816d23944e5b30574dde54cd743",
            "d8d258ff8d054d8b89f0aea3a0686714",
            "63d2ac057d454753bb3eca87609b8f07",
            "813298a9ab4b4a4b92fcee617617cb0e",
            "1cbc89420877415a9d1c30e758420ba6",
            "7f9384664a964ee3b46812801cfddee8",
            "3c03531a359845b68d47340b0a1e6136",
            "3f539550aaf64fd38c386323c555e58a",
            "554226b5af774e38b25d9d8b49d4289c",
            "d2b02b21dd9f48578c5e69209895c8fd",
            "5de201c75944422bac49b3db05252ef5",
            "1aca1c5d34a044b9982f1e5cb6b4d3de",
            "66393c290a5648babb85587d13951274",
            "4a047d1c83d84211be521aea4d0c1563",
            "fb3cefe687d342418a3000d60e800844",
            "dd535faf0ea94f7ba33595508a846b5d",
            "04011e47986949168aec222aebae9d6b",
            "a1e0550969e04212aff26da3c441af76",
            "61a985a6a6654fab9054c49cb968f3b8",
            "0122ee9620d64900980a39c85f7a38ac",
            "cd4be35051244365bf1f1c5d70f6f419",
            "d0e305ec7acd43539cc9c15245caed1f",
            "fee0ff3ee7bd4c80a434f16d83264689",
            "d8fb4a0a8c1045d183134a163f35087e",
            "c973754be3874e32a147e249ff6ce199",
            "c2c3fb578dd04dafbc51dd2326c1ef55",
            "744a4ad0d36043798f7d2afb4df9b58e",
            "d94791847b1c425f8e14e4013cd32bcc",
            "51e5dea78d72411c86fe7f70bc1d7e7e",
            "635d30ad2d8e4f8b9faf77341aed3248",
            "d226acbb44224474b53415134d759504"
          ]
        },
        "outputId": "749fb39b-4983-478c-f143-f0b8e7af0cc5"
      },
      "execution_count": null,
      "outputs": [
        {
          "output_type": "display_data",
          "data": {
            "text/plain": [
              "config.json:   0%|          | 0.00/608 [00:00<?, ?B/s]"
            ],
            "application/vnd.jupyter.widget-view+json": {
              "version_major": 2,
              "version_minor": 0,
              "model_id": "d855fb169bfa4873994da90e35c19235"
            }
          },
          "metadata": {}
        },
        {
          "output_type": "display_data",
          "data": {
            "text/plain": [
              "model.safetensors:   0%|          | 0.00/2.20G [00:00<?, ?B/s]"
            ],
            "application/vnd.jupyter.widget-view+json": {
              "version_major": 2,
              "version_minor": 0,
              "model_id": "d2b02b21dd9f48578c5e69209895c8fd"
            }
          },
          "metadata": {}
        },
        {
          "output_type": "display_data",
          "data": {
            "text/plain": [
              "generation_config.json:   0%|          | 0.00/124 [00:00<?, ?B/s]"
            ],
            "application/vnd.jupyter.widget-view+json": {
              "version_major": 2,
              "version_minor": 0,
              "model_id": "cd4be35051244365bf1f1c5d70f6f419"
            }
          },
          "metadata": {}
        }
      ]
    },
    {
      "cell_type": "code",
      "source": [
        "# Training arguments\n",
        "training_args = TrainingArguments(\n",
        "    num_train_epochs=1,\n",
        "    per_device_train_batch_size=1,\n",
        "    per_device_eval_batch_size=1,\n",
        "    gradient_accumulation_steps=8,\n",
        "    eval_strategy=\"steps\",\n",
        "    save_steps=10,\n",
        "    learning_rate=2e-4,\n",
        "    fp16=False,\n",
        "    logging_steps=10,\n",
        "    max_grad_norm=0.3,\n",
        "    warmup_ratio=0.03,\n",
        "    lr_scheduler_type=\"cosine\",\n",
        "    optim=\"adamw_torch\",\n",
        "    report_to=\"none\",  # Disable W&B and other logging\n",
        "    run_name=\"tinyllama-finetune\"  # Optional: Custom run name\n",
        ")"
      ],
      "metadata": {
        "id": "rfJF5zMkxHkG"
      },
      "execution_count": null,
      "outputs": []
    },
    {
      "cell_type": "code",
      "source": [
        "from transformers import DataCollatorForLanguageModeling\n",
        "\n",
        "# Trainer\n",
        "trainer = Trainer(\n",
        "    model=model,\n",
        "    args=training_args,\n",
        "    train_dataset=tokenized_dataset[\"train\"],\n",
        "    eval_dataset=tokenized_dataset[\"validation\"],\n",
        "    tokenizer=tokenizer,\n",
        "    #data_collator=DataCollatorForLanguageModeling(tokenizer=tokenizer, mlm=False)\n",
        ")"
      ],
      "metadata": {
        "colab": {
          "base_uri": "https://localhost:8080/"
        },
        "id": "FXhCzzZ9xOJS",
        "outputId": "8dcd3c1d-5ad1-4bc8-f0e4-865efcb3162d"
      },
      "execution_count": null,
      "outputs": [
        {
          "output_type": "stream",
          "name": "stderr",
          "text": [
            "<ipython-input-12-3816989583>:4: FutureWarning: `tokenizer` is deprecated and will be removed in version 5.0.0 for `Trainer.__init__`. Use `processing_class` instead.\n",
            "  trainer = Trainer(\n"
          ]
        }
      ]
    },
    {
      "cell_type": "code",
      "source": [
        "trainer.train()"
      ],
      "metadata": {
        "colab": {
          "base_uri": "https://localhost:8080/",
          "height": 173
        },
        "id": "4-XemwAjyQL0",
        "outputId": "55bbb464-344e-4ff0-a428-09deb229ea41"
      },
      "execution_count": null,
      "outputs": [
        {
          "output_type": "display_data",
          "data": {
            "text/plain": [
              "<IPython.core.display.HTML object>"
            ],
            "text/html": [
              "\n",
              "    <div>\n",
              "      \n",
              "      <progress value='23' max='23' style='width:300px; height:20px; vertical-align: middle;'></progress>\n",
              "      [23/23 04:35, Epoch 1/1]\n",
              "    </div>\n",
              "    <table border=\"1\" class=\"dataframe\">\n",
              "  <thead>\n",
              " <tr style=\"text-align: left;\">\n",
              "      <th>Step</th>\n",
              "      <th>Training Loss</th>\n",
              "      <th>Validation Loss</th>\n",
              "    </tr>\n",
              "  </thead>\n",
              "  <tbody>\n",
              "    <tr>\n",
              "      <td>10</td>\n",
              "      <td>473547.850000</td>\n",
              "      <td>nan</td>\n",
              "    </tr>\n",
              "    <tr>\n",
              "      <td>20</td>\n",
              "      <td>0.000000</td>\n",
              "      <td>nan</td>\n",
              "    </tr>\n",
              "  </tbody>\n",
              "</table><p>"
            ]
          },
          "metadata": {}
        },
        {
          "output_type": "execute_result",
          "data": {
            "text/plain": [
              "TrainOutput(global_step=23, training_loss=205890.36956521738, metrics={'train_runtime': 278.0153, 'train_samples_per_second': 0.644, 'train_steps_per_second': 0.083, 'total_flos': 284432972906496.0, 'train_loss': 205890.36956521738, 'epoch': 1.0})"
            ]
          },
          "metadata": {},
          "execution_count": 13
        }
      ]
    },
    {
      "cell_type": "code",
      "metadata": {
        "id": "a5f7e436"
      },
      "source": [
        "# Define save directory\n",
        "output_dir = \"./tinyllama-finetune-model\""
      ],
      "execution_count": null,
      "outputs": []
    },
    {
      "cell_type": "code",
      "metadata": {
        "colab": {
          "base_uri": "https://localhost:8080/"
        },
        "id": "d8b767ec",
        "outputId": "f1baecd5-e546-4c13-f689-d4d449d8db63"
      },
      "source": [
        "# Save model and tokenizer\n",
        "trainer.save_model(output_dir)\n",
        "tokenizer.save_pretrained(output_dir)\n",
        "print(f\"Model and tokenizer saved to {output_dir}\")"
      ],
      "execution_count": null,
      "outputs": [
        {
          "output_type": "stream",
          "name": "stdout",
          "text": [
            "Model and tokenizer saved to ./tinyllama-finetune-model\n"
          ]
        }
      ]
    },
    {
      "cell_type": "code",
      "source": [],
      "metadata": {
        "id": "qK9Ffa7l9oz7"
      },
      "execution_count": null,
      "outputs": []
    },
    {
      "cell_type": "code",
      "metadata": {
        "colab": {
          "base_uri": "https://localhost:8080/"
        },
        "id": "1829ad0c",
        "outputId": "d3a5bfdd-21f7-495b-e6ee-0883da1cc159"
      },
      "source": [
        "!zip -r /content/tinyllama-finetune-model.zip /content/tinyllama-finetune-model"
      ],
      "execution_count": null,
      "outputs": [
        {
          "output_type": "stream",
          "name": "stdout",
          "text": [
            "  adding: content/tinyllama-finetune-model/ (stored 0%)\n",
            "  adding: content/tinyllama-finetune-model/config.json (deflated 48%)\n",
            "  adding: content/tinyllama-finetune-model/training_args.bin (deflated 51%)\n",
            "  adding: content/tinyllama-finetune-model/tokenizer_config.json (deflated 69%)\n",
            "  adding: content/tinyllama-finetune-model/generation_config.json (deflated 29%)\n",
            "  adding: content/tinyllama-finetune-model/special_tokens_map.json (deflated 73%)\n",
            "  adding: content/tinyllama-finetune-model/tokenizer.model (deflated 55%)\n",
            "  adding: content/tinyllama-finetune-model/chat_template.jinja (deflated 60%)\n",
            "  adding: content/tinyllama-finetune-model/tokenizer.json (deflated 85%)\n",
            "  adding: content/tinyllama-finetune-model/model.safetensors (deflated 100%)\n"
          ]
        }
      ]
    },
    {
      "cell_type": "code",
      "metadata": {
        "colab": {
          "base_uri": "https://localhost:8080/",
          "height": 17
        },
        "id": "7324f987",
        "outputId": "52956eda-2eb4-4a6e-cdb4-21dfae67bc72"
      },
      "source": [
        "from google.colab import files\n",
        "files.download('/content/tinyllama-finetune-model.zip')"
      ],
      "execution_count": null,
      "outputs": [
        {
          "output_type": "display_data",
          "data": {
            "text/plain": [
              "<IPython.core.display.Javascript object>"
            ],
            "application/javascript": [
              "\n",
              "    async function download(id, filename, size) {\n",
              "      if (!google.colab.kernel.accessAllowed) {\n",
              "        return;\n",
              "      }\n",
              "      const div = document.createElement('div');\n",
              "      const label = document.createElement('label');\n",
              "      label.textContent = `Downloading \"${filename}\": `;\n",
              "      div.appendChild(label);\n",
              "      const progress = document.createElement('progress');\n",
              "      progress.max = size;\n",
              "      div.appendChild(progress);\n",
              "      document.body.appendChild(div);\n",
              "\n",
              "      const buffers = [];\n",
              "      let downloaded = 0;\n",
              "\n",
              "      const channel = await google.colab.kernel.comms.open(id);\n",
              "      // Send a message to notify the kernel that we're ready.\n",
              "      channel.send({})\n",
              "\n",
              "      for await (const message of channel.messages) {\n",
              "        // Send a message to notify the kernel that we're ready.\n",
              "        channel.send({})\n",
              "        if (message.buffers) {\n",
              "          for (const buffer of message.buffers) {\n",
              "            buffers.push(buffer);\n",
              "            downloaded += buffer.byteLength;\n",
              "            progress.value = downloaded;\n",
              "          }\n",
              "        }\n",
              "      }\n",
              "      const blob = new Blob(buffers, {type: 'application/binary'});\n",
              "      const a = document.createElement('a');\n",
              "      a.href = window.URL.createObjectURL(blob);\n",
              "      a.download = filename;\n",
              "      div.appendChild(a);\n",
              "      a.click();\n",
              "      div.remove();\n",
              "    }\n",
              "  "
            ]
          },
          "metadata": {}
        },
        {
          "output_type": "display_data",
          "data": {
            "text/plain": [
              "<IPython.core.display.Javascript object>"
            ],
            "application/javascript": [
              "download(\"download_de3c7e3e-9cf1-4c89-b869-ef8b86e8e262\", \"tinyllama-finetune-model.zip\", 2914001)"
            ]
          },
          "metadata": {}
        }
      ]
    },
    {
      "cell_type": "code",
      "metadata": {
        "colab": {
          "base_uri": "https://localhost:8080/"
        },
        "id": "3ece36ca",
        "outputId": "d01ccea9-d145-4e2b-a8c6-93c2c7c1cc06"
      },
      "source": [
        "!zip -r /content/trainer_output.zip /content/trainer_output"
      ],
      "execution_count": null,
      "outputs": [
        {
          "output_type": "stream",
          "name": "stdout",
          "text": [
            "  adding: content/trainer_output/ (stored 0%)\n",
            "  adding: content/trainer_output/checkpoint-20/ (stored 0%)\n",
            "  adding: content/trainer_output/checkpoint-20/rng_state.pth (deflated 25%)\n",
            "  adding: content/trainer_output/checkpoint-20/config.json (deflated 48%)\n",
            "  adding: content/trainer_output/checkpoint-20/training_args.bin (deflated 51%)\n",
            "  adding: content/trainer_output/checkpoint-20/tokenizer_config.json (deflated 69%)\n",
            "  adding: content/trainer_output/checkpoint-20/generation_config.json (deflated 29%)\n",
            "  adding: content/trainer_output/checkpoint-20/special_tokens_map.json (deflated 73%)\n",
            "  adding: content/trainer_output/checkpoint-20/trainer_state.json (deflated 65%)\n",
            "  adding: content/trainer_output/checkpoint-20/tokenizer.model (deflated 55%)\n",
            "  adding: content/trainer_output/checkpoint-20/chat_template.jinja (deflated 60%)\n",
            "  adding: content/trainer_output/checkpoint-20/scheduler.pt (deflated 56%)\n",
            "  adding: content/trainer_output/checkpoint-20/tokenizer.json (deflated 85%)\n",
            "  adding: content/trainer_output/checkpoint-20/optimizer.pt (deflated 100%)\n",
            "  adding: content/trainer_output/checkpoint-20/model.safetensors (deflated 100%)\n",
            "  adding: content/trainer_output/checkpoint-23/ (stored 0%)\n",
            "  adding: content/trainer_output/checkpoint-23/rng_state.pth (deflated 25%)\n",
            "  adding: content/trainer_output/checkpoint-23/config.json (deflated 48%)\n",
            "  adding: content/trainer_output/checkpoint-23/training_args.bin (deflated 51%)\n",
            "  adding: content/trainer_output/checkpoint-23/tokenizer_config.json (deflated 69%)\n",
            "  adding: content/trainer_output/checkpoint-23/generation_config.json (deflated 29%)\n",
            "  adding: content/trainer_output/checkpoint-23/special_tokens_map.json (deflated 73%)\n",
            "  adding: content/trainer_output/checkpoint-23/trainer_state.json (deflated 64%)\n",
            "  adding: content/trainer_output/checkpoint-23/tokenizer.model (deflated 55%)\n",
            "  adding: content/trainer_output/checkpoint-23/chat_template.jinja (deflated 60%)\n",
            "  adding: content/trainer_output/checkpoint-23/scheduler.pt (deflated 57%)\n",
            "  adding: content/trainer_output/checkpoint-23/tokenizer.json (deflated 85%)\n",
            "  adding: content/trainer_output/checkpoint-23/optimizer.pt (deflated 100%)\n",
            "  adding: content/trainer_output/checkpoint-23/model.safetensors (deflated 100%)\n",
            "  adding: content/trainer_output/checkpoint-10/ (stored 0%)\n",
            "  adding: content/trainer_output/checkpoint-10/rng_state.pth (deflated 25%)\n",
            "  adding: content/trainer_output/checkpoint-10/config.json (deflated 48%)\n",
            "  adding: content/trainer_output/checkpoint-10/training_args.bin (deflated 51%)\n",
            "  adding: content/trainer_output/checkpoint-10/tokenizer_config.json (deflated 69%)\n",
            "  adding: content/trainer_output/checkpoint-10/generation_config.json (deflated 29%)\n",
            "  adding: content/trainer_output/checkpoint-10/special_tokens_map.json (deflated 73%)\n",
            "  adding: content/trainer_output/checkpoint-10/trainer_state.json (deflated 59%)\n",
            "  adding: content/trainer_output/checkpoint-10/tokenizer.model (deflated 55%)\n",
            "  adding: content/trainer_output/checkpoint-10/chat_template.jinja (deflated 60%)\n",
            "  adding: content/trainer_output/checkpoint-10/scheduler.pt (deflated 56%)\n",
            "  adding: content/trainer_output/checkpoint-10/tokenizer.json (deflated 85%)\n",
            "  adding: content/trainer_output/checkpoint-10/optimizer.pt (deflated 100%)\n",
            "  adding: content/trainer_output/checkpoint-10/model.safetensors (deflated 100%)\n"
          ]
        }
      ]
    },
    {
      "cell_type": "code",
      "metadata": {
        "colab": {
          "base_uri": "https://localhost:8080/",
          "height": 17
        },
        "id": "ca950fe9",
        "outputId": "1dabf0d4-0c2c-46a4-cde1-e519e72c4e8e"
      },
      "source": [
        "from google.colab import files\n",
        "files.download('/content/trainer_output.zip')"
      ],
      "execution_count": null,
      "outputs": [
        {
          "output_type": "display_data",
          "data": {
            "text/plain": [
              "<IPython.core.display.Javascript object>"
            ],
            "application/javascript": [
              "\n",
              "    async function download(id, filename, size) {\n",
              "      if (!google.colab.kernel.accessAllowed) {\n",
              "        return;\n",
              "      }\n",
              "      const div = document.createElement('div');\n",
              "      const label = document.createElement('label');\n",
              "      label.textContent = `Downloading \"${filename}\": `;\n",
              "      div.appendChild(label);\n",
              "      const progress = document.createElement('progress');\n",
              "      progress.max = size;\n",
              "      div.appendChild(progress);\n",
              "      document.body.appendChild(div);\n",
              "\n",
              "      const buffers = [];\n",
              "      let downloaded = 0;\n",
              "\n",
              "      const channel = await google.colab.kernel.comms.open(id);\n",
              "      // Send a message to notify the kernel that we're ready.\n",
              "      channel.send({})\n",
              "\n",
              "      for await (const message of channel.messages) {\n",
              "        // Send a message to notify the kernel that we're ready.\n",
              "        channel.send({})\n",
              "        if (message.buffers) {\n",
              "          for (const buffer of message.buffers) {\n",
              "            buffers.push(buffer);\n",
              "            downloaded += buffer.byteLength;\n",
              "            progress.value = downloaded;\n",
              "          }\n",
              "        }\n",
              "      }\n",
              "      const blob = new Blob(buffers, {type: 'application/binary'});\n",
              "      const a = document.createElement('a');\n",
              "      a.href = window.URL.createObjectURL(blob);\n",
              "      a.download = filename;\n",
              "      div.appendChild(a);\n",
              "      a.click();\n",
              "      div.remove();\n",
              "    }\n",
              "  "
            ]
          },
          "metadata": {}
        },
        {
          "output_type": "display_data",
          "data": {
            "text/plain": [
              "<IPython.core.display.Javascript object>"
            ],
            "application/javascript": [
              "download(\"download_c46d7e80-8c71-4930-bf56-91629417aefa\", \"trainer_output.zip\", 21733732)"
            ]
          },
          "metadata": {}
        }
      ]
    }
  ]
}